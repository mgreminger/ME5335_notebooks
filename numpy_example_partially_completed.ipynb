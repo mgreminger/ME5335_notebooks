{
 "cells": [
  {
   "cell_type": "markdown",
   "metadata": {},
   "source": [
    "Solve for the nodal displacements and the reaction force for the following structure:\n",
    "\n",
    "![](./images/structure.png)"
   ]
  },
  {
   "cell_type": "code",
   "execution_count": null,
   "metadata": {},
   "outputs": [],
   "source": [
    "import numpy as np"
   ]
  },
  {
   "cell_type": "code",
   "execution_count": null,
   "metadata": {},
   "outputs": [],
   "source": [
    "# Let's first define some constants\n",
    "# We'll use the mm-kg-sec unit system\n",
    "# The mm-kg-sec unit system has force units of N and \n",
    "# pressure units of MPa\n",
    "\n",
    "E = 206.8e3      # MPa\n",
    "\n",
    "L1 = 100    # length of elements 1 and 2 in mm\n",
    "L3 = 200    # length of element 3 in mm\n",
    "\n",
    "A1 = 1000   # Areas of elements 1 and 2 in mm^2\n",
    "A3 = 100    # Area of element 3 in mm^2"
   ]
  },
  {
   "cell_type": "markdown",
   "metadata": {},
   "source": [
    "We know from the solution to HW1 that the global stiffness matrix has the following form:\n",
    "\n",
    "![](./images/structure_matrix_equation.png)\n",
    "\n",
    "where $F_1$ is the unknown reaction force $R$, $F_2$ is -10,000 N, $F_3$ is 0, and $F_4$ is 5,000 N\n",
    "\n",
    "We'll define $k_1$ to be $\\frac{EA_1}{L1}$ and $k_3$ to be $\\frac{EA_3}{L3}$. Note that since the second element as the same properties as element 1, $k_2=k_1$."
   ]
  },
  {
   "cell_type": "code",
   "execution_count": null,
   "metadata": {},
   "outputs": [],
   "source": [
    "# Define the element k values (k1 and k3)\n"
   ]
  },
  {
   "cell_type": "code",
   "execution_count": null,
   "metadata": {},
   "outputs": [],
   "source": [
    "# Define the global stiffness matrix as a numpy array\n"
   ]
  },
  {
   "cell_type": "code",
   "execution_count": null,
   "metadata": {},
   "outputs": [],
   "source": [
    "# To solve this problem, we'll need to multiply both sides of the above \n",
    "# matrix equation by the inverse of the stiffness matrix\n",
    "# Let's see if the stiffness matrix is invertable by calculating its rank\n"
   ]
  },
  {
   "cell_type": "markdown",
   "metadata": {},
   "source": [
    "The rank of a square matrix is a count of the number of linearily indpendent rows. For a square matrix to be invertable, its rank must equal its number of rows. In this case the rank needs to be 4. A rank of less than 4 is expected since, without any displacement boundary condtions, the  stiffness matrix is not invertable. To make it invertable, we need to apply the displacement boundary condition. For this problem, the displacement boundary condition is $\\delta_1=0$. To applying this boundary condition, we'll change the first row of the matrix equation to $\\delta_1=0$. After apply this boundary condition, the K matrix will become invertable.\n"
   ]
  },
  {
   "cell_type": "code",
   "execution_count": null,
   "metadata": {},
   "outputs": [],
   "source": [
    "# Redefine K and define the force vector F with the displacement boundary condition\n"
   ]
  },
  {
   "cell_type": "code",
   "execution_count": null,
   "metadata": {},
   "outputs": [],
   "source": [
    "# Calculate the rank of the updated stiffness matrix with boundary condition appplied\n"
   ]
  },
  {
   "cell_type": "code",
   "execution_count": null,
   "metadata": {},
   "outputs": [],
   "source": [
    "# Invert this new K and muliply by the force vector to obtain the displacements\n"
   ]
  },
  {
   "cell_type": "markdown",
   "metadata": {},
   "source": [
    "Finally, we need to caclulate the reaction force due to the applied boundary condition. To do this, we use the original matrix equation before applying the displacement boundary condition to obtain to full foce fector"
   ]
  },
  {
   "cell_type": "code",
   "execution_count": null,
   "metadata": {},
   "outputs": [],
   "source": [
    "# Calculate the reaction force\n"
   ]
  },
  {
   "cell_type": "code",
   "execution_count": null,
   "metadata": {},
   "outputs": [],
   "source": []
  }
 ],
 "metadata": {
  "kernelspec": {
   "display_name": "Python 3",
   "language": "python",
   "name": "python3"
  },
  "language_info": {
   "codemirror_mode": {
    "name": "ipython",
    "version": 3
   },
   "file_extension": ".py",
   "mimetype": "text/x-python",
   "name": "python",
   "nbconvert_exporter": "python",
   "pygments_lexer": "ipython3",
   "version": "3.8.3"
  }
 },
 "nbformat": 4,
 "nbformat_minor": 4
}
