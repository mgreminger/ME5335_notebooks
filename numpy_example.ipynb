{
 "cells": [
  {
   "cell_type": "markdown",
   "metadata": {},
   "source": [
    "Solve for the nodal displacements and the reaction force for the following structure:\n",
    "\n",
    "![](./images/structure.png)"
   ]
  },
  {
   "cell_type": "code",
   "execution_count": 1,
   "metadata": {},
   "outputs": [],
   "source": [
    "import numpy as np"
   ]
  },
  {
   "cell_type": "code",
   "execution_count": 2,
   "metadata": {},
   "outputs": [],
   "source": [
    "# Let's first define some constants\n",
    "# We'll use the mm-kg-sec unit system\n",
    "# The mm-kg-sec unit system has force units of N and \n",
    "# pressure units of MPa\n",
    "\n",
    "E = 206.8e3      # MPa\n",
    "\n",
    "L1 = 100    # length of elements 1 and 2 in mm\n",
    "L3 = 200    # length of element 3 in mm\n",
    "\n",
    "A1 = 1000   # Areas of elements 1 and 2 in mm^2\n",
    "A3 = 100    # Area of element 3 in mm^2"
   ]
  },
  {
   "cell_type": "markdown",
   "metadata": {},
   "source": [
    "We know from the solution to HW1 that the global stiffness matrix has the following form:\n",
    "\n",
    "![](./images/structure_matrix_equation.png)\n",
    "\n",
    "where $F_1$ is the unknown reaction force $R$, $F_2$ is -10,000 N, $F_3$ is 0, and $F_4$ is 5,000 N\n",
    "\n",
    "We'll define $k_1$ to be $\\frac{EA_1}{L1}$ and $k_3$ to be $\\frac{EA_3}{L3}$. Note that since the second element as the same properties as element 1, $k_2=k_1$."
   ]
  },
  {
   "cell_type": "code",
   "execution_count": 3,
   "metadata": {},
   "outputs": [],
   "source": [
    "# Define the element k values (k1 and k3)\n",
    "k1 = (E*A1)/L1  # element 2 will be the same\n",
    "k3 = (E*A3)/L3"
   ]
  },
  {
   "cell_type": "code",
   "execution_count": 4,
   "metadata": {},
   "outputs": [
    {
     "data": {
      "text/plain": [
       "array([[ 2068000., -2068000.,        0.,        0.],\n",
       "       [-2068000.,  4136000., -2068000.,        0.],\n",
       "       [       0., -2068000.,  2171400.,  -103400.],\n",
       "       [       0.,        0.,  -103400.,   103400.]])"
      ]
     },
     "execution_count": 4,
     "metadata": {},
     "output_type": "execute_result"
    }
   ],
   "source": [
    "# Define the global stiffness matrix as a numpy array\n",
    "K = np.array([[k1, -k1, 0, 0],\n",
    "              [-k1, 2*k1, -k1, 0],\n",
    "              [0, -k1, k1+k3, -k3],\n",
    "              [0, 0, -k3, k3]])\n",
    "K"
   ]
  },
  {
   "cell_type": "code",
   "execution_count": 5,
   "metadata": {},
   "outputs": [
    {
     "data": {
      "text/plain": [
       "3"
      ]
     },
     "execution_count": 5,
     "metadata": {},
     "output_type": "execute_result"
    }
   ],
   "source": [
    "# To solve this problem, we'll need to multiply both sides of the above \n",
    "# matrix equation by the inverse of the stiffness matrix\n",
    "# Let's see if the stiffness matrix is invertable by calculating its rank\n",
    "rank = np.linalg.matrix_rank(K)\n",
    "rank"
   ]
  },
  {
   "cell_type": "markdown",
   "metadata": {},
   "source": [
    "The rank of a square matrix is a count of the number of linearily indpendent rows. For a square matrix to be invertable, its rank must equal its number of rows. In this case the rank needs to be 4. A rank of less than 4 is expected since, without any displacement boundary condtions, the  stiffness matrix is not invertable. To make it invertable, we need to apply the displacement boundary condition. For this problem, the displacement boundary condition is $\\delta_1=0$. To applying this boundary condition, we'll change the first row of the matrix equation to $\\delta_1=0$. After apply this boundary condition, the K matrix will become invertable.\n"
   ]
  },
  {
   "cell_type": "code",
   "execution_count": 6,
   "metadata": {},
   "outputs": [
    {
     "data": {
      "text/plain": [
       "(array([[ 1.0000e+00,  0.0000e+00,  0.0000e+00,  0.0000e+00],\n",
       "        [-2.0680e+06,  4.1360e+06, -2.0680e+06,  0.0000e+00],\n",
       "        [ 0.0000e+00, -2.0680e+06,  2.1714e+06, -1.0340e+05],\n",
       "        [ 0.0000e+00,  0.0000e+00, -1.0340e+05,  1.0340e+05]]),\n",
       " array([     0, -10000,      0,   5000]))"
      ]
     },
     "execution_count": 6,
     "metadata": {},
     "output_type": "execute_result"
    }
   ],
   "source": [
    "# Redefine K and define the force vector F with the displacement boundary condition\n",
    "K_with_bc = np.array([[1, 0, 0, 0],\n",
    "                      [-k1, 2*k1, -k1, 0],\n",
    "                      [0, -k1, k1+k3, -k3],\n",
    "                      [0, 0, -k3, k3]])\n",
    "\n",
    "F_with_bc = np.array([0,\n",
    "                      -10000,\n",
    "                      0,\n",
    "                      5000])\n",
    "\n",
    "K_with_bc, F_with_bc"
   ]
  },
  {
   "cell_type": "code",
   "execution_count": 7,
   "metadata": {},
   "outputs": [
    {
     "data": {
      "text/plain": [
       "4"
      ]
     },
     "execution_count": 7,
     "metadata": {},
     "output_type": "execute_result"
    }
   ],
   "source": [
    "# Calculate the rank of the updated stiffness matrix with boundary condition appplied\n",
    "rank = np.linalg.matrix_rank(K_with_bc)\n",
    "rank"
   ]
  },
  {
   "cell_type": "code",
   "execution_count": 8,
   "metadata": {},
   "outputs": [
    {
     "data": {
      "text/plain": [
       "array([ 1.72698058e-18, -2.41779497e-03,  1.73472348e-18,  4.83558994e-02])"
      ]
     },
     "execution_count": 8,
     "metadata": {},
     "output_type": "execute_result"
    }
   ],
   "source": [
    "# Invert this new K and muliply by the force vector to obtain the displacements\n",
    "delta = np.linalg.inv(K_with_bc)@F_with_bc\n",
    "delta  # these displacements will be in mm"
   ]
  },
  {
   "cell_type": "markdown",
   "metadata": {},
   "source": [
    "Finally, we need to caclulate the reaction force due to the applied boundary condition. To do this, we use the original matrix equation before applying the displacement boundary condition to obtain to full foce fector"
   ]
  },
  {
   "cell_type": "code",
   "execution_count": 9,
   "metadata": {},
   "outputs": [
    {
     "data": {
      "text/plain": [
       "array([ 5.00000000e+03, -1.00000000e+04, -9.09494702e-13,  5.00000000e+03])"
      ]
     },
     "execution_count": 9,
     "metadata": {},
     "output_type": "execute_result"
    }
   ],
   "source": [
    "# Calculate the reaction force\n",
    "reaction_force = K@delta\n",
    "reaction_force # these forces will be in N"
   ]
  },
  {
   "cell_type": "code",
   "execution_count": null,
   "metadata": {},
   "outputs": [],
   "source": []
  }
 ],
 "metadata": {
  "kernelspec": {
   "display_name": "Python 3",
   "language": "python",
   "name": "python3"
  },
  "language_info": {
   "codemirror_mode": {
    "name": "ipython",
    "version": 3
   },
   "file_extension": ".py",
   "mimetype": "text/x-python",
   "name": "python",
   "nbconvert_exporter": "python",
   "pygments_lexer": "ipython3",
   "version": "3.8.3"
  }
 },
 "nbformat": 4,
 "nbformat_minor": 4
}
